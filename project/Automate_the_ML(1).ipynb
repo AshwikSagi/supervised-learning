{
  "nbformat": 4,
  "nbformat_minor": 0,
  "metadata": {
    "accelerator": "GPU",
    "colab": {
      "name": "Automate_the_ML.ipynb",
      "provenance": []
    },
    "kernelspec": {
      "display_name": "Python 3",
      "language": "python",
      "name": "python3"
    },
    "language_info": {
      "codemirror_mode": {
        "name": "ipython",
        "version": 3
      },
      "file_extension": ".py",
      "mimetype": "text/x-python",
      "name": "python",
      "nbconvert_exporter": "python",
      "pygments_lexer": "ipython3",
      "version": "3.7.6"
    }
  },
  "cells": [
    {
      "cell_type": "code",
      "metadata": {
        "colab": {
          "base_uri": "https://localhost:8080/",
          "height": 170
        },
        "id": "FYd2T32MY6Hu",
        "outputId": "795b7e27-800e-4580-d027-0ca8bc7fba3c"
      },
      "source": [
        "!pip install h2o"
      ],
      "execution_count": null,
      "outputs": [
        {
          "output_type": "stream",
          "text": [
            "Requirement already satisfied: h2o in /usr/local/lib/python3.6/dist-packages (3.30.1.1)\n",
            "Requirement already satisfied: requests in /usr/local/lib/python3.6/dist-packages (from h2o) (2.23.0)\n",
            "Requirement already satisfied: tabulate in /usr/local/lib/python3.6/dist-packages (from h2o) (0.8.7)\n",
            "Requirement already satisfied: future in /usr/local/lib/python3.6/dist-packages (from h2o) (0.16.0)\n",
            "Requirement already satisfied: colorama>=0.3.8 in /usr/local/lib/python3.6/dist-packages (from h2o) (0.4.3)\n",
            "Requirement already satisfied: certifi>=2017.4.17 in /usr/local/lib/python3.6/dist-packages (from requests->h2o) (2020.6.20)\n",
            "Requirement already satisfied: urllib3!=1.25.0,!=1.25.1,<1.26,>=1.21.1 in /usr/local/lib/python3.6/dist-packages (from requests->h2o) (1.24.3)\n",
            "Requirement already satisfied: chardet<4,>=3.0.2 in /usr/local/lib/python3.6/dist-packages (from requests->h2o) (3.0.4)\n",
            "Requirement already satisfied: idna<3,>=2.5 in /usr/local/lib/python3.6/dist-packages (from requests->h2o) (2.10)\n"
          ],
          "name": "stdout"
        }
      ]
    },
    {
      "cell_type": "code",
      "metadata": {
        "colab": {
          "base_uri": "https://localhost:8080/",
          "height": 528
        },
        "id": "h2r2K1kMZLVh",
        "outputId": "f8643973-8826-4702-b3dc-3b06e4332ada"
      },
      "source": [
        "import h2o\n",
        "from h2o.automl import H2OAutoML\n",
        "h2o.init()"
      ],
      "execution_count": null,
      "outputs": [
        {
          "output_type": "stream",
          "text": [
            "Checking whether there is an H2O instance running at http://localhost:54321 ..... not found.\n",
            "Attempting to start a local H2O server...\n",
            "  Java Version: openjdk version \"11.0.8\" 2020-07-14; OpenJDK Runtime Environment (build 11.0.8+10-post-Ubuntu-0ubuntu118.04.1); OpenJDK 64-Bit Server VM (build 11.0.8+10-post-Ubuntu-0ubuntu118.04.1, mixed mode, sharing)\n",
            "  Starting server from /usr/local/lib/python3.6/dist-packages/h2o/backend/bin/h2o.jar\n",
            "  Ice root: /tmp/tmpma9fljwj\n",
            "  JVM stdout: /tmp/tmpma9fljwj/h2o_unknownUser_started_from_python.out\n",
            "  JVM stderr: /tmp/tmpma9fljwj/h2o_unknownUser_started_from_python.err\n",
            "  Server is running at http://127.0.0.1:54321\n",
            "Connecting to H2O server at http://127.0.0.1:54321 ... successful.\n"
          ],
          "name": "stdout"
        },
        {
          "output_type": "display_data",
          "data": {
            "text/html": [
              "<div style=\"overflow:auto\"><table style=\"width:50%\"><tr><td>H2O_cluster_uptime:</td>\n",
              "<td>02 secs</td></tr>\n",
              "<tr><td>H2O_cluster_timezone:</td>\n",
              "<td>Etc/UTC</td></tr>\n",
              "<tr><td>H2O_data_parsing_timezone:</td>\n",
              "<td>UTC</td></tr>\n",
              "<tr><td>H2O_cluster_version:</td>\n",
              "<td>3.30.1.1</td></tr>\n",
              "<tr><td>H2O_cluster_version_age:</td>\n",
              "<td>20 days </td></tr>\n",
              "<tr><td>H2O_cluster_name:</td>\n",
              "<td>H2O_from_python_unknownUser_xfopdw</td></tr>\n",
              "<tr><td>H2O_cluster_total_nodes:</td>\n",
              "<td>1</td></tr>\n",
              "<tr><td>H2O_cluster_free_memory:</td>\n",
              "<td>3.180 Gb</td></tr>\n",
              "<tr><td>H2O_cluster_total_cores:</td>\n",
              "<td>2</td></tr>\n",
              "<tr><td>H2O_cluster_allowed_cores:</td>\n",
              "<td>2</td></tr>\n",
              "<tr><td>H2O_cluster_status:</td>\n",
              "<td>accepting new members, healthy</td></tr>\n",
              "<tr><td>H2O_connection_url:</td>\n",
              "<td>http://127.0.0.1:54321</td></tr>\n",
              "<tr><td>H2O_connection_proxy:</td>\n",
              "<td>{\"http\": null, \"https\": null}</td></tr>\n",
              "<tr><td>H2O_internal_security:</td>\n",
              "<td>False</td></tr>\n",
              "<tr><td>H2O_API_Extensions:</td>\n",
              "<td>Amazon S3, XGBoost, Algos, AutoML, Core V3, TargetEncoder, Core V4</td></tr>\n",
              "<tr><td>Python_version:</td>\n",
              "<td>3.6.9 final</td></tr></table></div>"
            ],
            "text/plain": [
              "--------------------------  ------------------------------------------------------------------\n",
              "H2O_cluster_uptime:         02 secs\n",
              "H2O_cluster_timezone:       Etc/UTC\n",
              "H2O_data_parsing_timezone:  UTC\n",
              "H2O_cluster_version:        3.30.1.1\n",
              "H2O_cluster_version_age:    20 days\n",
              "H2O_cluster_name:           H2O_from_python_unknownUser_xfopdw\n",
              "H2O_cluster_total_nodes:    1\n",
              "H2O_cluster_free_memory:    3.180 Gb\n",
              "H2O_cluster_total_cores:    2\n",
              "H2O_cluster_allowed_cores:  2\n",
              "H2O_cluster_status:         accepting new members, healthy\n",
              "H2O_connection_url:         http://127.0.0.1:54321\n",
              "H2O_connection_proxy:       {\"http\": null, \"https\": null}\n",
              "H2O_internal_security:      False\n",
              "H2O_API_Extensions:         Amazon S3, XGBoost, Algos, AutoML, Core V3, TargetEncoder, Core V4\n",
              "Python_version:             3.6.9 final\n",
              "--------------------------  ------------------------------------------------------------------"
            ]
          },
          "metadata": {
            "tags": []
          }
        }
      ]
    },
    {
      "cell_type": "code",
      "metadata": {
        "colab": {
          "base_uri": "https://localhost:8080/",
          "height": 34
        },
        "id": "Z-GNN46mZMcT",
        "outputId": "42e14226-ac7f-4035-ca1b-4fae5404b5a5"
      },
      "source": [
        "# Load data into H2O\n",
        "\n",
        "# df = h2o.import_file(path=path, header =1)\n",
        "import pandas as pd\n",
        "from sklearn import preprocessing\n",
        "\n",
        "df = pd.read_csv('/content/Bank_Personal_Loan_Modelling.csv')\n",
        "labelEncoder = preprocessing.LabelEncoder()\n",
        "for col in df.columns:\n",
        "    df[col] = labelEncoder.fit_transform(df[col])\n",
        "\n",
        "df = h2o.H2OFrame(df)\n",
        "df = df.asfactor()"
      ],
      "execution_count": null,
      "outputs": [
        {
          "output_type": "stream",
          "text": [
            "Parse progress: |█████████████████████████████████████████████████████████| 100%\n"
          ],
          "name": "stdout"
        }
      ]
    },
    {
      "cell_type": "code",
      "metadata": {
        "colab": {
          "base_uri": "https://localhost:8080/",
          "height": 465
        },
        "id": "kp9qm12fZXGp",
        "outputId": "4a1d9bf2-7e30-4e2f-f816-eeb7edcc1ee7"
      },
      "source": [
        "df.describe()"
      ],
      "execution_count": null,
      "outputs": [
        {
          "output_type": "stream",
          "text": [
            "Rows:5000\n",
            "Cols:14\n",
            "\n",
            "\n"
          ],
          "name": "stdout"
        },
        {
          "output_type": "display_data",
          "data": {
            "text/html": [
              "<table>\n",
              "<thead>\n",
              "<tr><th>       </th><th>ID  </th><th>Age  </th><th>Experience  </th><th>Income  </th><th>ZIP Code  </th><th>Family  </th><th>CCAvg  </th><th>Education  </th><th>Mortgage  </th><th>Personal Loan  </th><th>Securities Account  </th><th>CD Account  </th><th>Online  </th><th>CreditCard  </th></tr>\n",
              "</thead>\n",
              "<tbody>\n",
              "<tr><td>type   </td><td>enum</td><td>enum </td><td>enum        </td><td>enum    </td><td>enum      </td><td>enum    </td><td>enum   </td><td>enum       </td><td>enum      </td><td>enum           </td><td>enum                </td><td>enum        </td><td>enum    </td><td>enum        </td></tr>\n",
              "<tr><td>mins   </td><td>    </td><td>     </td><td>            </td><td>        </td><td>          </td><td>        </td><td>       </td><td>           </td><td>          </td><td>               </td><td>                    </td><td>            </td><td>        </td><td>            </td></tr>\n",
              "<tr><td>mean   </td><td>    </td><td>     </td><td>            </td><td>        </td><td>          </td><td>        </td><td>       </td><td>           </td><td>          </td><td>               </td><td>                    </td><td>            </td><td>        </td><td>            </td></tr>\n",
              "<tr><td>maxs   </td><td>    </td><td>     </td><td>            </td><td>        </td><td>          </td><td>        </td><td>       </td><td>           </td><td>          </td><td>               </td><td>                    </td><td>            </td><td>        </td><td>            </td></tr>\n",
              "<tr><td>sigma  </td><td>    </td><td>     </td><td>            </td><td>        </td><td>          </td><td>        </td><td>       </td><td>           </td><td>          </td><td>               </td><td>                    </td><td>            </td><td>        </td><td>            </td></tr>\n",
              "<tr><td>zeros  </td><td>    </td><td>     </td><td>            </td><td>        </td><td>          </td><td>        </td><td>       </td><td>           </td><td>          </td><td>               </td><td>                    </td><td>            </td><td>        </td><td>            </td></tr>\n",
              "<tr><td>missing</td><td>0   </td><td>0    </td><td>0           </td><td>0       </td><td>0         </td><td>0       </td><td>0      </td><td>0          </td><td>0         </td><td>0              </td><td>0                   </td><td>0           </td><td>0       </td><td>0           </td></tr>\n",
              "<tr><td>0      </td><td>0   </td><td>2    </td><td>4           </td><td>33      </td><td>83        </td><td>3       </td><td>19     </td><td>0          </td><td>0         </td><td>0              </td><td>1                   </td><td>0           </td><td>0       </td><td>0           </td></tr>\n",
              "<tr><td>1      </td><td>1   </td><td>22   </td><td>22          </td><td>22      </td><td>34        </td><td>2       </td><td>18     </td><td>0          </td><td>0         </td><td>0              </td><td>1                   </td><td>0           </td><td>0       </td><td>0           </td></tr>\n",
              "<tr><td>2      </td><td>2   </td><td>16   </td><td>18          </td><td>3       </td><td>367       </td><td>0       </td><td>12     </td><td>0          </td><td>0         </td><td>0              </td><td>0                   </td><td>0           </td><td>0       </td><td>0           </td></tr>\n",
              "<tr><td>3      </td><td>3   </td><td>12   </td><td>12          </td><td>74      </td><td>298       </td><td>0       </td><td>34     </td><td>1          </td><td>0         </td><td>0              </td><td>0                   </td><td>0           </td><td>0       </td><td>0           </td></tr>\n",
              "<tr><td>4      </td><td>4   </td><td>12   </td><td>11          </td><td>31      </td><td>96        </td><td>3       </td><td>12     </td><td>1          </td><td>0         </td><td>0              </td><td>0                   </td><td>0           </td><td>0       </td><td>1           </td></tr>\n",
              "<tr><td>5      </td><td>5   </td><td>14   </td><td>16          </td><td>17      </td><td>160       </td><td>3       </td><td>4      </td><td>1          </td><td>81        </td><td>0              </td><td>0                   </td><td>0           </td><td>1       </td><td>0           </td></tr>\n",
              "<tr><td>6      </td><td>6   </td><td>30   </td><td>30          </td><td>52      </td><td>115       </td><td>1       </td><td>18     </td><td>1          </td><td>0         </td><td>0              </td><td>0                   </td><td>0           </td><td>1       </td><td>0           </td></tr>\n",
              "<tr><td>7      </td><td>7   </td><td>27   </td><td>27          </td><td>12      </td><td>267       </td><td>0       </td><td>3      </td><td>2          </td><td>0         </td><td>0              </td><td>0                   </td><td>0           </td><td>0       </td><td>1           </td></tr>\n",
              "<tr><td>8      </td><td>8   </td><td>12   </td><td>13          </td><td>59      </td><td>34        </td><td>2       </td><td>6      </td><td>1          </td><td>30        </td><td>0              </td><td>0                   </td><td>0           </td><td>1       </td><td>0           </td></tr>\n",
              "<tr><td>9      </td><td>9   </td><td>11   </td><td>12          </td><td>138     </td><td>235       </td><td>0       </td><td>104    </td><td>2          </td><td>0         </td><td>1              </td><td>0                   </td><td>0           </td><td>0       </td><td>0           </td></tr>\n",
              "</tbody>\n",
              "</table>"
            ]
          },
          "metadata": {
            "tags": []
          }
        }
      ]
    },
    {
      "cell_type": "code",
      "metadata": {
        "id": "cZmg1bBgaAA4"
      },
      "source": [
        "train,test = df.split_frame(ratios=[.7])"
      ],
      "execution_count": null,
      "outputs": []
    },
    {
      "cell_type": "code",
      "metadata": {
        "colab": {
          "base_uri": "https://localhost:8080/",
          "height": 34
        },
        "id": "PqYFCCH1aFh7",
        "outputId": "513366c7-acb7-4bb0-9943-7f5f92d617a8"
      },
      "source": [
        "y = \"Personal Loan\"\n",
        "x_train = train.columns\n",
        "x_train.remove(y)\n",
        "\n",
        "aml = H2OAutoML(max_runtime_secs=600, seed = 1)\n",
        "aml.train(x = x_train, y = y, training_frame = train)"
      ],
      "execution_count": null,
      "outputs": [
        {
          "output_type": "stream",
          "text": [
            "AutoML progress: |████████████████████████████████████████████████████████| 100%\n"
          ],
          "name": "stdout"
        }
      ]
    },
    {
      "cell_type": "code",
      "metadata": {
        "colab": {
          "base_uri": "https://localhost:8080/",
          "height": 250
        },
        "id": "cd8-QHrzaLsr",
        "outputId": "c4c12190-410d-466a-9b55-f05aa077e7c6"
      },
      "source": [
        "lb = aml.leaderboard\n",
        "lb.head()"
      ],
      "execution_count": null,
      "outputs": [
        {
          "output_type": "display_data",
          "data": {
            "text/html": [
              "<table>\n",
              "<thead>\n",
              "<tr><th>model_id                                           </th><th style=\"text-align: right;\">     auc</th><th style=\"text-align: right;\">  logloss</th><th style=\"text-align: right;\">   aucpr</th><th style=\"text-align: right;\">  mean_per_class_error</th><th style=\"text-align: right;\">    rmse</th><th style=\"text-align: right;\">      mse</th></tr>\n",
              "</thead>\n",
              "<tbody>\n",
              "<tr><td>StackedEnsemble_AllModels_AutoML_20200830_172751   </td><td style=\"text-align: right;\">0.991306</td><td style=\"text-align: right;\">0.0673615</td><td style=\"text-align: right;\">0.942167</td><td style=\"text-align: right;\">             0.0762881</td><td style=\"text-align: right;\">0.133349</td><td style=\"text-align: right;\">0.017782 </td></tr>\n",
              "<tr><td>StackedEnsemble_BestOfFamily_AutoML_20200830_172751</td><td style=\"text-align: right;\">0.991041</td><td style=\"text-align: right;\">0.0714592</td><td style=\"text-align: right;\">0.934955</td><td style=\"text-align: right;\">             0.0497576</td><td style=\"text-align: right;\">0.138852</td><td style=\"text-align: right;\">0.0192799</td></tr>\n",
              "<tr><td>XRT_1_AutoML_20200830_172751                       </td><td style=\"text-align: right;\">0.986523</td><td style=\"text-align: right;\">0.143781 </td><td style=\"text-align: right;\">0.909569</td><td style=\"text-align: right;\">             0.081742 </td><td style=\"text-align: right;\">0.206101</td><td style=\"text-align: right;\">0.0424776</td></tr>\n",
              "<tr><td>GBM_grid__1_AutoML_20200830_172751_model_19        </td><td style=\"text-align: right;\">0.963943</td><td style=\"text-align: right;\">0.16405  </td><td style=\"text-align: right;\">0.852761</td><td style=\"text-align: right;\">             0.123975 </td><td style=\"text-align: right;\">0.210733</td><td style=\"text-align: right;\">0.0444083</td></tr>\n",
              "<tr><td>GBM_grid__1_AutoML_20200830_172751_model_6         </td><td style=\"text-align: right;\">0.962282</td><td style=\"text-align: right;\">0.160405 </td><td style=\"text-align: right;\">0.850781</td><td style=\"text-align: right;\">             0.141536 </td><td style=\"text-align: right;\">0.202807</td><td style=\"text-align: right;\">0.0411308</td></tr>\n",
              "<tr><td>GBM_grid__1_AutoML_20200830_172751_model_17        </td><td style=\"text-align: right;\">0.961873</td><td style=\"text-align: right;\">0.17001  </td><td style=\"text-align: right;\">0.835048</td><td style=\"text-align: right;\">             0.144847 </td><td style=\"text-align: right;\">0.216337</td><td style=\"text-align: right;\">0.0468015</td></tr>\n",
              "<tr><td>GBM_3_AutoML_20200830_172751                       </td><td style=\"text-align: right;\">0.959125</td><td style=\"text-align: right;\">0.18499  </td><td style=\"text-align: right;\">0.815538</td><td style=\"text-align: right;\">             0.159184 </td><td style=\"text-align: right;\">0.217832</td><td style=\"text-align: right;\">0.047451 </td></tr>\n",
              "<tr><td>GBM_grid__1_AutoML_20200830_172751_model_21        </td><td style=\"text-align: right;\">0.954122</td><td style=\"text-align: right;\">0.153155 </td><td style=\"text-align: right;\">0.800929</td><td style=\"text-align: right;\">             0.161169 </td><td style=\"text-align: right;\">0.203346</td><td style=\"text-align: right;\">0.0413495</td></tr>\n",
              "<tr><td>DRF_1_AutoML_20200830_172751                       </td><td style=\"text-align: right;\">0.953759</td><td style=\"text-align: right;\">0.21098  </td><td style=\"text-align: right;\">0.807837</td><td style=\"text-align: right;\">             0.171404 </td><td style=\"text-align: right;\">0.213203</td><td style=\"text-align: right;\">0.0454553</td></tr>\n",
              "<tr><td>GBM_grid__1_AutoML_20200830_172751_model_10        </td><td style=\"text-align: right;\">0.952953</td><td style=\"text-align: right;\">0.164407 </td><td style=\"text-align: right;\">0.844947</td><td style=\"text-align: right;\">             0.120433 </td><td style=\"text-align: right;\">0.199877</td><td style=\"text-align: right;\">0.0399509</td></tr>\n",
              "</tbody>\n",
              "</table>"
            ]
          },
          "metadata": {
            "tags": []
          }
        },
        {
          "output_type": "execute_result",
          "data": {
            "text/plain": [
              ""
            ]
          },
          "metadata": {
            "tags": []
          },
          "execution_count": 12
        }
      ]
    },
    {
      "cell_type": "code",
      "metadata": {
        "colab": {
          "base_uri": "https://localhost:8080/",
          "height": 34
        },
        "id": "VrtHFGbaaoFs",
        "outputId": "d16992f8-1797-4128-f48e-6dbea5aead37"
      },
      "source": [
        "preds = aml.predict(test)"
      ],
      "execution_count": null,
      "outputs": [
        {
          "output_type": "stream",
          "text": [
            "stackedensemble prediction progress: |████████████████████████████████████| 100%\n"
          ],
          "name": "stdout"
        }
      ]
    },
    {
      "cell_type": "code",
      "metadata": {
        "id": "xh_q56U9asO5"
      },
      "source": [
        ""
      ],
      "execution_count": null,
      "outputs": []
    }
  ]
}